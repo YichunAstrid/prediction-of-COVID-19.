{
  "cells": [
    {
      "cell_type": "code",
      "execution_count": 1,
      "metadata": {
        "colab": {
          "base_uri": "https://localhost:8080/",
          "height": 35
        },
        "id": "FAXQoL-_PG4a",
        "outputId": "b94f6aac-65ad-4568-b89b-76afa065cf33"
      },
      "outputs": [
        {
          "data": {
            "application/vnd.google.colaboratory.intrinsic+json": {
              "type": "string"
            },
            "text/plain": [
              "'2.11.0'"
            ]
          },
          "execution_count": 1,
          "metadata": {},
          "output_type": "execute_result"
        }
      ],
      "source": [
        "import keras\n",
        "keras.__version__"
      ]
    },
    {
      "cell_type": "code",
      "execution_count": null,
      "metadata": {
        "id": "_UPIs6VYcFsu"
      },
      "outputs": [],
      "source": [
        "import logging\n",
        "logging.getLogger('tensorflow').disabled = True \n",
        "import tensorflow as tf\n",
        "import os\n",
        "from matplotlib import pyplot as plt\n",
        "import math\n",
        "import shutil\n",
        "import random\n"
      ]
    },
    {
      "cell_type": "code",
      "execution_count": null,
      "metadata": {
        "colab": {
          "base_uri": "https://localhost:8080/"
        },
        "id": "I6bqTVRSs-sw",
        "outputId": "14e79c7d-eb79-4e7b-fb92-e8f155896fec"
      },
      "outputs": [
        {
          "name": "stdout",
          "output_type": "stream",
          "text": [
            "COVID-19\n"
          ]
        }
      ],
      "source": [
        "\n",
        "import json\n",
        "import numpy as np\n",
        "import glob\n",
        "import pandas as pd\n",
        "\n",
        "# importing modules\n",
        "import urllib.request\n",
        "from PIL import Image\n",
        "from keras import layers, models\n",
        "import tensorflow as tf\n",
        "\n",
        "# all-images file should be uploaded to the same file\n",
        "imageNames = glob.glob(\"/content/drive/MyDrive/all-images/*\")\n",
        "\n",
        "# Shuffle the list of file names randomly\n",
        "random.shuffle(imageNames)\n",
        "\n",
        "# Calculate the number of file names to keep (i.e., 10% of the total number)\n",
        "num_to_keep = int(len(imageNames) * 0.01)\n",
        "\n",
        "# Keep the first num_to_keep file names in the shuffled list\n",
        "imageNames = imageNames[:num_to_keep]\n",
        "\n",
        "dataset = []\n",
        "labels = []\n",
        "\n",
        "for i, imName in enumerate(imageNames):\n",
        "\n",
        "# Opening JSON file\n",
        "    f = open(imName)\n",
        "    data = json.load(f)\n",
        "    for j in range(len(data['annotations'])):\n",
        "\n",
        "        if 'COVID-19' in (data['annotations'][j]['name']):\n",
        "          #load images from url    \n",
        "            urllib.request.urlretrieve(data['image']['url'],\"img.png\")    \n",
        "            img = Image.open(\"img.png\")\n",
        "            #convert images to grayscale\n",
        "            imgGray = img.convert('L')\n",
        "            #resize the image (156x156)\n",
        "            im = imgGray.resize((156,156), Image.LANCZOS)           \n",
        "            label = data['annotations'][j]['name']\n",
        "            dataset.append(np.array(im))\n",
        "            labels.append(label)\n",
        "            print(label)\n",
        "            break\n",
        "\n",
        "        if 'Viral Pneumonia' in (data['annotations'][j]['name']) \\\n",
        "            or 'Bacterial Pneumonia' in (data['annotations'][j]['name']) \\\n",
        "            or 'No Pneumonia (healthy)' in (data['annotations'][j]['name']):\n",
        "            #load images from url    \n",
        "            urllib.request.urlretrieve(data['image']['url'],\"img.png\")    \n",
        "            img = Image.open(\"img.png\")\n",
        "            #convert images to grayscale\n",
        "            imgGray = img.convert('L')\n",
        "            #resize the image (156x156)\n",
        "            im = imgGray.resize((156,156), Image.LANCZOS)           \n",
        "            label = data['annotations'][j]['name']\n",
        "            dataset.append(np.array(im))\n",
        "            labels.append(label)\n",
        "            break\n",
        "\n",
        "# Convert data shape of (n_of_samples, width, height, 1)\n",
        "dataset = np.dstack(dataset)    \n",
        "dataset = np.rollaxis(dataset,-1)\n",
        "labels = np.array(labels)\n",
        "\n",
        "# convert images gray scale to rgb\n",
        "data = np.array(layers.Lambda(tf.image.grayscale_to_rgb)(tf.expand_dims(dataset, -1)))\n",
        "\n",
        "# save data and labels into a folder\n",
        "np.save(\"/content/drive/MyDrive/Colab Notebooks/data.npy\", data)\n",
        "np.save(\"/content/drive/MyDrive/Colab Notebooks/labels.npy\", labels)"
      ]
    },
    {
      "attachments": {},
      "cell_type": "markdown",
      "metadata": {
        "id": "Dn3sH7yJWboe"
      },
      "source": [
        "load data from your directory."
      ]
    },
    {
      "cell_type": "code",
      "execution_count": null,
      "metadata": {
        "id": "b6ZPDhVLWbyq"
      },
      "outputs": [],
      "source": [
        "import numpy as np\n",
        "\n",
        "data = np.load('/content/drive/MyDrive/Colab Notebooks/data.npy')\n",
        "labels = np.load('/content/drive/MyDrive/Colab Notebooks/labels.npy')"
      ]
    },
    {
      "cell_type": "code",
      "execution_count": null,
      "metadata": {
        "colab": {
          "base_uri": "https://localhost:8080/"
        },
        "id": "DlE3bcAmLBzV",
        "outputId": "a3284581-d8ea-438e-999e-1a51cab9057d"
      },
      "outputs": [
        {
          "name": "stdout",
          "output_type": "stream",
          "text": [
            "<class 'numpy.ndarray'>\n",
            "<class 'numpy.ndarray'>\n",
            "(646, 156, 156, 3)\n",
            "(646,)\n"
          ]
        },
        {
          "data": {
            "text/plain": [
              "646"
            ]
          },
          "execution_count": 5,
          "metadata": {},
          "output_type": "execute_result"
        }
      ],
      "source": [
        "print(type(data))\n",
        "print(type(labels))\n",
        "print(data.shape)\n",
        "print(labels.shape)\n",
        "len(data)"
      ]
    },
    {
      "cell_type": "code",
      "execution_count": null,
      "metadata": {
        "id": "2nLU5Ba-cU_n"
      },
      "outputs": [],
      "source": [
        "data"
      ]
    },
    {
      "cell_type": "code",
      "execution_count": null,
      "metadata": {
        "id": "fNKtfJxJV3Sv"
      },
      "outputs": [],
      "source": [
        "labels"
      ]
    },
    {
      "cell_type": "code",
      "execution_count": null,
      "metadata": {
        "colab": {
          "base_uri": "https://localhost:8080/"
        },
        "id": "x5vru5yqW67j",
        "outputId": "42a376da-c969-45ad-edd6-ba2e0fbb7376"
      },
      "outputs": [
        {
          "name": "stdout",
          "output_type": "stream",
          "text": [
            "4\n"
          ]
        }
      ],
      "source": [
        "num_classes=len(np.unique(labels))\n",
        "print(num_classes)"
      ]
    },
    {
      "cell_type": "markdown",
      "metadata": {
        "id": "B1b7dP-VbJpC"
      },
      "source": [
        "# Preprocessing Steps\n",
        "\n"
      ]
    },
    {
      "cell_type": "markdown",
      "metadata": {
        "id": "xC_YmdQMbn1K"
      },
      "source": [
        "## Splitting Data"
      ]
    },
    {
      "cell_type": "code",
      "execution_count": null,
      "metadata": {
        "id": "wPSlVwk7qRVM"
      },
      "outputs": [],
      "source": [
        "# one-hot-encoding\n",
        "from sklearn.preprocessing import LabelEncoder\n",
        "label_encoder = LabelEncoder()\n",
        "integer_encoded = label_encoder.fit_transform(labels)\n",
        "print(integer_encoded)\n"
      ]
    },
    {
      "cell_type": "code",
      "execution_count": null,
      "metadata": {
        "id": "FLEpR3BXlvv3"
      },
      "outputs": [],
      "source": [
        "\n",
        "from keras.utils import to_categorical\n",
        "# creating one hot encoder object \n",
        "encoded_labels = to_categorical(integer_encoded)"
      ]
    },
    {
      "cell_type": "code",
      "execution_count": null,
      "metadata": {
        "id": "EVQgba8ArBDJ"
      },
      "outputs": [],
      "source": [
        "# split data\n",
        "from sklearn.model_selection import train_test_split\n",
        "X_train, X_test, y_train, y_test = train_test_split(data, encoded_labels, test_size=0.2, random_state=42)"
      ]
    },
    {
      "cell_type": "code",
      "execution_count": null,
      "metadata": {
        "id": "YDzj5nJhrOYj"
      },
      "outputs": [],
      "source": [
        "y_train"
      ]
    },
    {
      "cell_type": "markdown",
      "metadata": {
        "id": "R-r4ta3MbKLJ"
      },
      "source": [
        "## Normalize Data"
      ]
    },
    {
      "cell_type": "code",
      "execution_count": null,
      "metadata": {
        "id": "LeplL77mbKS4"
      },
      "outputs": [],
      "source": [
        "# convert from integers to floats\n",
        "X_train = X_train.astype('float32')\n",
        "X_test = X_test.astype('float32')\n",
        "\n",
        "X_train = X_train / 255.0\n",
        "X_test = X_test / 255.0"
      ]
    },
    {
      "cell_type": "markdown",
      "metadata": {
        "id": "YONVgtOAbKca"
      },
      "source": [
        "# Create Baseline Model"
      ]
    },
    {
      "cell_type": "code",
      "execution_count": null,
      "metadata": {
        "id": "nSULW4CD7bfY"
      },
      "outputs": [],
      "source": [
        "from keras import models\n",
        "from keras import layers\n",
        "from keras import Input\n",
        "from tensorflow import keras\n",
        "import numpy as np\n",
        "from sklearn.model_selection import GridSearchCV\n",
        "from keras.models import Sequential\n",
        "from keras.layers import Conv2D, MaxPooling2D, Dense, Flatten\n",
        "from keras.optimizers import Adam\n",
        "from keras.wrappers.scikit_learn import KerasClassifier\n",
        "\n",
        "\n",
        "\n",
        "# define baseline CNN model\n",
        "def create_model( activation, loss, X_train, y_train ):\n",
        "    model = Sequential()\n",
        "    model.add(Conv2D(64, (3, 3), activation='relu', input_shape= X_train.shape[1:]))\n",
        "    model.add(Conv2D(32, (3, 3), activation='relu', input_shape = X_train.shape[1:]))\n",
        "    model.add(layers.MaxPooling2D((2, 2)))\n",
        "    model.add(Conv2D(64, (3, 3), activation='relu', input_shape= X_train.shape[1:]))\n",
        "    model.add(Conv2D(32, (3, 3), activation='relu', input_shape = X_train.shape[1:]))\n",
        "    model.add(layers.MaxPooling2D((2, 2)))\n",
        "    model.add(Flatten())\n",
        "    model.add(Dense(32, activation='relu',\n",
        "                           input_shape=(X_train.shape[1],)))\n",
        "    model.add(Dense(32, activation='relu'))\n",
        "    model.add(Dense(4, activation=activation))\n",
        "\n",
        "    #The optimizer is Adam\n",
        "    #the metric should be accuracy and the loss function is expected\n",
        "    model.compile(optimizer=Adam(), loss=loss, metrics=['accuracy'])\n",
        "        \n",
        "    return model"
      ]
    },
    {
      "cell_type": "code",
      "execution_count": null,
      "metadata": {
        "id": "2AEyYu_fB1zN"
      },
      "outputs": [],
      "source": [
        "# model.summary()"
      ]
    },
    {
      "cell_type": "code",
      "execution_count": null,
      "metadata": {
        "colab": {
          "base_uri": "https://localhost:8080/"
        },
        "id": "zBo5kdOL7l7q",
        "outputId": "7838afea-5290-46ab-de13-59f52d789c49"
      },
      "outputs": [
        {
          "name": "stderr",
          "output_type": "stream",
          "text": [
            "<ipython-input-17-9b1186b7e546>:2: DeprecationWarning: KerasClassifier is deprecated, use Sci-Keras (https://github.com/adriangb/scikeras) instead. See https://www.adriangb.com/scikeras/stable/migration.html for help migrating.\n",
            "  model = KerasClassifier(build_fn=create_model, epochs=10, batch_size=32, verbose=0,X_train=X_train, y_train=y_train)\n"
          ]
        },
        {
          "name": "stdout",
          "output_type": "stream",
          "text": [
            "Best: 0.430233 using {'activation': 'relu', 'loss': 'categorical_crossentropy'}\n",
            "Test accuracy: 0.300000\n"
          ]
        }
      ],
      "source": [
        "def run_grid_search(X_train, X_test, y_train, y_test):\n",
        "    model = KerasClassifier(build_fn=create_model, epochs=10, batch_size=32, verbose=0,X_train=X_train, y_train=y_train)\n",
        "    # TODO : more parameter needed\n",
        "    # activation = ['relu', 'sigmoid', 'softmax','softplus','softsign','tanh','selu','elu','exponential']\n",
        "    activation = ['relu']\n",
        "    # loss = ['categorical_crossentropy', 'mean_squared_error']\n",
        "    loss = ['categorical_crossentropy']\n",
        "    param_grid = dict(activation=activation, loss=loss)\n",
        "    grid = GridSearchCV(estimator=model, param_grid=param_grid, n_jobs=-1, cv=3)\n",
        "    grid_result = grid.fit(X_train, y_train)\n",
        "    print(\"Best: %f using %s\" % (grid_result.best_score_, grid_result.best_params_))\n",
        "    test_accuracy = grid.score(X_test, y_test)\n",
        "    print(\"Test accuracy: %f\" % (test_accuracy))\n",
        "    return grid_result\n",
        "\n",
        "\n",
        "grid_result = run_grid_search(X_train, X_test, y_train, y_test)"
      ]
    },
    {
      "cell_type": "code",
      "execution_count": null,
      "metadata": {
        "colab": {
          "base_uri": "https://localhost:8080/"
        },
        "id": "Dz5SJdxUVbNt",
        "outputId": "92ee2e95-c67f-4c3b-c341-94e77d63c29d"
      },
      "outputs": [
        {
          "name": "stdout",
          "output_type": "stream",
          "text": [
            "Epoch 1/10\n",
            "17/17 [==============================] - 46s 3s/step - loss: 5.1034 - accuracy: 0.3973 - val_loss: 5.3429 - val_accuracy: 0.4538\n",
            "Epoch 2/10\n",
            "17/17 [==============================] - 45s 3s/step - loss: 5.1343 - accuracy: 0.4516 - val_loss: 5.5199 - val_accuracy: 0.4538\n",
            "Epoch 3/10\n",
            "17/17 [==============================] - 45s 3s/step - loss: 2.7551 - accuracy: 0.4516 - val_loss: 1.2879 - val_accuracy: 0.4538\n",
            "Epoch 4/10\n",
            "17/17 [==============================] - 47s 3s/step - loss: 1.3794 - accuracy: 0.4516 - val_loss: 1.2712 - val_accuracy: 0.4538\n",
            "Epoch 5/10\n",
            "17/17 [==============================] - 45s 3s/step - loss: 1.3695 - accuracy: 0.4516 - val_loss: 1.2640 - val_accuracy: 0.4538\n",
            "Epoch 6/10\n",
            "17/17 [==============================] - 45s 3s/step - loss: 1.3510 - accuracy: 0.4516 - val_loss: 1.2283 - val_accuracy: 0.4538\n",
            "Epoch 7/10\n",
            "17/17 [==============================] - 53s 3s/step - loss: 1.3597 - accuracy: 0.5078 - val_loss: 1.0891 - val_accuracy: 0.6769\n",
            "Epoch 8/10\n",
            "17/17 [==============================] - 48s 3s/step - loss: 1.2829 - accuracy: 0.5736 - val_loss: 1.1674 - val_accuracy: 0.6231\n",
            "Epoch 9/10\n",
            "17/17 [==============================] - 45s 3s/step - loss: 1.2169 - accuracy: 0.5291 - val_loss: 1.1771 - val_accuracy: 0.5615\n",
            "Epoch 10/10\n",
            "17/17 [==============================] - 45s 3s/step - loss: 1.1448 - accuracy: 0.6008 - val_loss: 1.0707 - val_accuracy: 0.6231\n",
            "5/5 [==============================] - 3s 466ms/step\n"
          ]
        }
      ],
      "source": [
        "# Train a new model with the best parameters on the full training set\n",
        "best_params = grid_result.best_params_\n",
        "best_model = create_model(best_params['activation'], best_params['loss'],X_train=X_train, y_train=y_train)\n",
        "history = best_model.fit(X_train, y_train, epochs=10, batch_size=32, validation_data=(X_test, y_test))\n",
        "y_score = best_model.predict(X_test)"
      ]
    },
    {
      "cell_type": "markdown",
      "metadata": {
        "id": "zOFuKRShbvTU"
      },
      "source": [
        "# Analyze the performance of the baseline model"
      ]
    },
    {
      "cell_type": "code",
      "execution_count": null,
      "metadata": {
        "colab": {
          "base_uri": "https://localhost:8080/",
          "height": 281
        },
        "id": "58gf79ODcFPD",
        "outputId": "4d28f53a-234b-4059-f19c-5dc13d5e5088"
      },
      "outputs": [
        {
          "data": {
            "image/png": "[encoded data removed]",
            "text/plain": [
              "<Figure size 432x288 with 2 Axes>"
            ]
          },
          "metadata": {},
          "output_type": "display_data"
        }
      ],
      "source": [
        "\n",
        "# Analyze the performance of the baseline by plotting: \n",
        "# Report performance measures (accuracy, sen\u0002sitivity, specificity and F1-score). \n",
        "# You can find the hint for plotting multi-class ROC curve here.\n",
        "\n",
        "# plot diagnostic learning curves\n",
        "def summarize_diagnostics(history):\n",
        "\t# plot loss\n",
        "\tplt.subplot(211)\n",
        "\tplt.title('Cross Entropy Loss')\n",
        "\tplt.plot(history.history['loss'], color='blue', label='train')\n",
        "\tplt.plot(history.history['val_loss'], color='orange', label='test')\n",
        " \n",
        "\t# plot accuracy\n",
        "\tplt.subplot(212)\n",
        "\tplt.title('Classification Accuracy')\n",
        "\tplt.plot(history.history['accuracy'], color='blue', label='train')\n",
        "\tplt.plot(history.history['val_accuracy'], color='orange', label='test')\n",
        "\tplt.legend(['training', 'validation'])\n",
        "\tplt.show()\n",
        " \n",
        "summarize_diagnostics(history)"
      ]
    },
    {
      "cell_type": "code",
      "execution_count": null,
      "metadata": {
        "colab": {
          "base_uri": "https://localhost:8080/"
        },
        "id": "FxMY7L4CyeHs",
        "outputId": "a1fe7ead-7bec-4a2c-a4d5-790bbe4567f2"
      },
      "outputs": [
        {
          "name": "stdout",
          "output_type": "stream",
          "text": [
            "Micro-averaged One-vs-Rest ROC AUC score:\n",
            "0.81\n",
            "Macro-averaged One-vs-Rest ROC AUC score:\n",
            "0.64\n"
          ]
        }
      ],
      "source": [
        "from sklearn.metrics import roc_curve, auc\n",
        "\n",
        "# store the fpr, tpr, and roc_auc for all averaging strategies\n",
        "fpr, tpr, roc_auc = dict(), dict(), dict()\n",
        "\n",
        "# Compute micro-average ROC curve and ROC area\n",
        "fpr[\"micro\"], tpr[\"micro\"], _ = roc_curve(y_test.ravel(), y_score.ravel())\n",
        "roc_auc[\"micro\"] = auc(fpr[\"micro\"], tpr[\"micro\"])\n",
        "\n",
        "print(f\"Micro-averaged One-vs-Rest ROC AUC score:\\n{roc_auc['micro']:.2f}\")\n",
        "\n",
        "\n",
        "for i in range(4):\n",
        "    fpr[i], tpr[i], _ = roc_curve(y_test[:, i], y_score[:, i])\n",
        "    roc_auc[i] = auc(fpr[i], tpr[i])\n",
        "\n",
        "fpr_grid = np.linspace(0.0, 1.0, 1000)\n",
        "\n",
        "# Interpolate all ROC curves at these points\n",
        "mean_tpr = np.zeros_like(fpr_grid)\n",
        "\n",
        "for i in range(4):\n",
        "    mean_tpr += np.interp(fpr_grid, fpr[i], tpr[i])  # linear interpolation\n",
        "\n",
        "# Average it and compute AUC\n",
        "mean_tpr /= 4\n",
        "\n",
        "fpr[\"macro\"] = fpr_grid\n",
        "tpr[\"macro\"] = mean_tpr\n",
        "roc_auc[\"macro\"] = auc(fpr[\"macro\"], tpr[\"macro\"])\n",
        "\n",
        "print(f\"Macro-averaged One-vs-Rest ROC AUC score:\\n{roc_auc['macro']:.2f}\")\n"
      ]
    },
    {
      "cell_type": "code",
      "execution_count": null,
      "metadata": {
        "colab": {
          "base_uri": "https://localhost:8080/",
          "height": 404
        },
        "id": "wHEVqRNJylpg",
        "outputId": "9ff1cfda-6c7e-4dc0-e0aa-cc928a0ef857"
      },
      "outputs": [
        {
          "data": {
            "image/png": "[encoded data removed]",
            "text/plain": [
              "<Figure size 432x432 with 1 Axes>"
            ]
          },
          "metadata": {},
          "output_type": "display_data"
        }
      ],
      "source": [
        "from itertools import cycle\n",
        "from sklearn.metrics import RocCurveDisplay\n",
        "\n",
        "\n",
        "fig, ax = plt.subplots(figsize=(6, 6))\n",
        "\n",
        "plt.plot(\n",
        "    fpr[\"micro\"],\n",
        "    tpr[\"micro\"],\n",
        "    label=f\"micro-average ROC curve (AUC = {roc_auc['micro']:.2f})\",\n",
        "    color=\"deeppink\",\n",
        "    linestyle=\":\",\n",
        "    linewidth=4,\n",
        ")\n",
        "\n",
        "plt.plot(\n",
        "    fpr[\"macro\"],\n",
        "    tpr[\"macro\"],\n",
        "    label=f\"macro-average ROC curve (AUC = {roc_auc['macro']:.2f})\",\n",
        "    color=\"navy\",\n",
        "    linestyle=\":\",\n",
        "    linewidth=4,\n",
        ")\n",
        "\n",
        "colors = cycle([\"aqua\", \"darkorange\", \"cornflowerblue\", \"yellow\"])\n",
        "for class_id, color in zip(range(4), colors):\n",
        "    RocCurveDisplay.from_predictions(\n",
        "        y_test[:, class_id],\n",
        "        y_score[:, class_id],\n",
        "        name=f\"ROC curve for class {class_id}\",\n",
        "        color=color,\n",
        "        ax=ax,\n",
        "    )\n",
        "\n",
        "# plt.plot([0, 1], [0, 1], \"k--\", label=\"ROC curve for chance level (AUC = 0.5)\")\n",
        "plt.plot([0, 1], [0, 1], \"k--\")\n",
        "\n",
        "plt.axis(\"square\")\n",
        "plt.xlabel(\"False Positive Rate\")\n",
        "plt.ylabel(\"True Positive Rate\")\n",
        "plt.title(\"Receiver Operating Characteristic of multiclass\")\n",
        "plt.legend()\n",
        "plt.show()"
      ]
    },
    {
      "cell_type": "code",
      "execution_count": null,
      "metadata": {
        "colab": {
          "base_uri": "https://localhost:8080/",
          "height": 604
        },
        "id": "EIfzjhMuymiU",
        "outputId": "1484a769-43b8-4194-87e4-b0c276fdbd05"
      },
      "outputs": [
        {
          "data": {
            "image/png": "[encoded data removed]",
            "text/plain": [
              "<Figure size 432x288 with 2 Axes>"
            ]
          },
          "metadata": {},
          "output_type": "display_data"
        },
        {
          "name": "stdout",
          "output_type": "stream",
          "text": [
            "              precision    recall  f1-score   support\n",
            "\n",
            "           0       0.59      0.92      0.72        59\n",
            "           1       0.00      0.00      0.00         2\n",
            "           2       0.71      0.90      0.79        30\n",
            "           3       0.00      0.00      0.00        39\n",
            "\n",
            "    accuracy                           0.62       130\n",
            "   macro avg       0.32      0.45      0.38       130\n",
            "weighted avg       0.43      0.62      0.51       130\n",
            "\n"
          ]
        },
        {
          "name": "stderr",
          "output_type": "stream",
          "text": [
            "/usr/local/lib/python3.8/dist-packages/sklearn/metrics/_classification.py:1318: UndefinedMetricWarning: Precision and F-score are ill-defined and being set to 0.0 in labels with no predicted samples. Use `zero_division` parameter to control this behavior.\n",
            "  _warn_prf(average, modifier, msg_start, len(result))\n",
            "/usr/local/lib/python3.8/dist-packages/sklearn/metrics/_classification.py:1318: UndefinedMetricWarning: Precision and F-score are ill-defined and being set to 0.0 in labels with no predicted samples. Use `zero_division` parameter to control this behavior.\n",
            "  _warn_prf(average, modifier, msg_start, len(result))\n",
            "/usr/local/lib/python3.8/dist-packages/sklearn/metrics/_classification.py:1318: UndefinedMetricWarning: Precision and F-score are ill-defined and being set to 0.0 in labels with no predicted samples. Use `zero_division` parameter to control this behavior.\n",
            "  _warn_prf(average, modifier, msg_start, len(result))\n"
          ]
        }
      ],
      "source": [
        "import matplotlib.pyplot as plt\n",
        "from sklearn.metrics import confusion_matrix, ConfusionMatrixDisplay\n",
        "from sklearn.metrics import classification_report\n",
        "\n",
        "\n",
        "# Get the predicted classes of the test set\n",
        "y_pred = np.argmax(y_score, axis=1)\n",
        "\n",
        "# Get the true classes of the test set\n",
        "y_true = np.argmax(y_test, axis=1)\n",
        "\n",
        "cm = confusion_matrix(y_true, y_pred)\n",
        "\n",
        "# Plot the confusion matrix as a heatmap using ConfusionMatrixDisplay\n",
        "display_labels = ['Class 0', 'Class 1', 'Class 2', 'Class 3'] # Replace with your own class labels\n",
        "cm_display = ConfusionMatrixDisplay(confusion_matrix=cm, display_labels=display_labels)\n",
        "\n",
        "# Display the plot\n",
        "cm_display.plot(cmap='Blues')\n",
        "plt.title(\"Confusion Matrix\")\n",
        "plt.show()\n",
        "\n",
        "print(classification_report(y_true, y_pred))\n"
      ]
    },
    {
      "cell_type": "code",
      "execution_count": null,
      "metadata": {
        "colab": {
          "base_uri": "https://localhost:8080/"
        },
        "id": "ukc6sBBUy2_A",
        "outputId": "f060c75e-0b7f-4c24-ea09-1ee358a0af88"
      },
      "outputs": [
        {
          "name": "stdout",
          "output_type": "stream",
          "text": [
            "specificity for each class:  {'0': 1.0, '1': 0.0, '2': 1.0, '3': 0.0}\n"
          ]
        },
        {
          "name": "stderr",
          "output_type": "stream",
          "text": [
            "/usr/local/lib/python3.8/dist-packages/sklearn/metrics/_classification.py:1318: UndefinedMetricWarning: Precision and F-score are ill-defined and being set to 0.0 in labels with no predicted samples. Use `zero_division` parameter to control this behavior.\n",
            "  _warn_prf(average, modifier, msg_start, len(result))\n",
            "/usr/local/lib/python3.8/dist-packages/sklearn/metrics/_classification.py:1318: UndefinedMetricWarning: Precision and F-score are ill-defined and being set to 0.0 in labels with no predicted samples. Use `zero_division` parameter to control this behavior.\n",
            "  _warn_prf(average, modifier, msg_start, len(result))\n",
            "/usr/local/lib/python3.8/dist-packages/sklearn/metrics/_classification.py:1318: UndefinedMetricWarning: Precision and F-score are ill-defined and being set to 0.0 in labels with no predicted samples. Use `zero_division` parameter to control this behavior.\n",
            "  _warn_prf(average, modifier, msg_start, len(result))\n"
          ]
        }
      ],
      "source": [
        "\n",
        "# y_true: true labels of test set\n",
        "# y_pred: predicted labels of test set\n",
        "\n",
        "# recall -> sensitivity\n",
        "# support -> specificity\n",
        "\n",
        "# Print classification report\n",
        "\n",
        "# Calculate TN, FP, FN, and TP for each class from the confusion matrix\n",
        "tn = [cm[i,j] for i in range(cm.shape[0]) for j in range(cm.shape[1]) if i != j]\n",
        "fp = [cm[:,j].sum() - cm[j,j] for j in range(cm.shape[1])]\n",
        "fn = [cm[i,:].sum() - cm[i,i] for i in range(cm.shape[0])]\n",
        "tp = [cm[i,i] for i in range(cm.shape[0])]\n",
        "\n",
        "# Generate classification report\n",
        "report = classification_report(y_true, y_pred, output_dict=True)\n",
        "\n",
        "# Extract specificity for each class from the classification report\n",
        "specificity = {}\n",
        "for class_name, metrics in report.items():\n",
        "    if class_name not in ['micro avg', 'macro avg', 'weighted avg', 'accuracy']:\n",
        "        idx = int(class_name) - 1\n",
        "        specificity[class_name] = tn[idx] / (tn[idx] + fp[idx])\n",
        "\n",
        "print(\"specificity for each class: \",specificity)"
      ]
    },
    {
      "cell_type": "markdown",
      "metadata": {
        "id": "gnxtO6BIb3_P"
      },
      "source": [
        "# Adapting/fine-tuning the network"
      ]
    },
    {
      "cell_type": "markdown",
      "metadata": {
        "id": "rqWsmE7C3PkT"
      },
      "source": [
        "tuning using grid search for different parameters: https://machinelearningmastery.com/grid-search-hyperparameters-deep-learning-models-python-keras/"
      ]
    },
    {
      "cell_type": "code",
      "execution_count": null,
      "metadata": {
        "id": "Cj8FIRfz0vdz"
      },
      "outputs": [],
      "source": [
        "# turn -> number of layers, batch size, learning rate..."
      ]
    },
    {
      "cell_type": "code",
      "execution_count": null,
      "metadata": {
        "colab": {
          "background_save": true,
          "base_uri": "https://localhost:8080/"
        },
        "id": "2w6QPACpZGta",
        "outputId": "2d5c1091-5c36-4667-a0d2-dfe400b365ea"
      },
      "outputs": [
        {
          "name": "stderr",
          "output_type": "stream",
          "text": [
            "<ipython-input-24-7fe1cc88588e>:37: DeprecationWarning: KerasClassifier is deprecated, use Sci-Keras (https://github.com/adriangb/scikeras) instead. See https://www.adriangb.com/scikeras/stable/migration.html for help migrating.\n",
            "  model = KerasClassifier(build_fn=create_model, epochs=10, batch_size=32, verbose=0,X_train=X_train, y_train=y_train)\n",
            "/usr/local/lib/python3.8/dist-packages/joblib/externals/loky/process_executor.py:700: UserWarning: A worker stopped while some jobs were given to the executor. This can be caused by a too short worker timeout or by a memory leak.\n",
            "  warnings.warn(\n"
          ]
        },
        {
          "name": "stdout",
          "output_type": "stream",
          "text": [
            "Best: 0.709302 using {'activation': 'sigmoid', 'loss': 'categorical_crossentropy', 'num_layers': 0}\n",
            "Test accuracy: 0.638462\n"
          ]
        }
      ],
      "source": [
        "from keras import models\n",
        "from keras import layers\n",
        "from keras import Input\n",
        "from tensorflow import keras\n",
        "import numpy as np\n",
        "from sklearn.model_selection import GridSearchCV\n",
        "from keras.models import Sequential\n",
        "from keras.layers import Conv2D, MaxPooling2D, Dense, Flatten\n",
        "from keras.optimizers import Adam\n",
        "from keras.wrappers.scikit_learn import KerasClassifier\n",
        "\n",
        "def create_model(num_layers, activation, loss, X_train, y_train):\n",
        "    model = Sequential()\n",
        "    model.add(Conv2D(64, (3, 3), activation='relu', input_shape= X_train.shape[1:]))\n",
        "    model.add(Conv2D(32, (3, 3), activation='relu', input_shape = X_train.shape[1:]))\n",
        "    model.add(layers.MaxPooling2D((2, 2)))\n",
        "    \n",
        "    # Add additional convolutional layers based on num_layers parameter\n",
        "    for i in range(num_layers):\n",
        "        model.add(Conv2D(64, (3, 3), activation='relu', input_shape= X_train.shape[1:]))\n",
        "        model.add(Conv2D(32, (3, 3), activation='relu', input_shape = X_train.shape[1:]))\n",
        "        model.add(layers.MaxPooling2D((2, 2)))\n",
        "\n",
        "    model.add(Flatten())\n",
        "    model.add(Dense(32, activation='relu',\n",
        "                           input_shape=(X_train.shape[1],)))\n",
        "    model.add(Dense(32, activation='relu'))\n",
        "    model.add(Dense(4, activation=activation))\n",
        "\n",
        "    #The optimizer is Adam\n",
        "    #the metric should be accuracy and the loss function is expected\n",
        "    model.compile(optimizer=Adam(), loss=loss, metrics=['accuracy'])\n",
        "        \n",
        "    return model\n",
        "\n",
        "def run_grid_search(X_train, X_test, y_train, y_test):\n",
        "    model = KerasClassifier(build_fn=create_model, epochs=10, batch_size=32, verbose=0,X_train=X_train, y_train=y_train)\n",
        "    activation = ['relu', 'sigmoid', 'softmax']\n",
        "    loss = ['categorical_crossentropy']\n",
        "    num_layers = [0, 1, 2, 3]  # Number of additional layers to add\n",
        "    \n",
        "    param_grid = dict(num_layers=num_layers, activation=activation, loss=loss)\n",
        "    grid = GridSearchCV(estimator=model, param_grid=param_grid, n_jobs=-1, cv=3)\n",
        "    grid_result = grid.fit(X_train, y_train)\n",
        "    \n",
        "    print(\"Best: %f using %s\" % (grid_result.best_score_, grid_result.best_params_))\n",
        "    test_accuracy = grid.score(X_test, y_test)\n",
        "    print(\"Test accuracy: %f\" % (test_accuracy))\n",
        "    \n",
        "    return grid_result\n",
        "\n",
        "\n",
        "grid_result_turn = run_grid_search(X_train, X_test, y_train, y_test)\n"
      ]
    },
    {
      "cell_type": "code",
      "execution_count": null,
      "metadata": {
        "id": "jbDR2_5iuwSv"
      },
      "outputs": [],
      "source": [
        "# Train a new model with the best parameters on the full training set\n",
        "best_params_turn = grid_result_turn.best_params_\n",
        "best_model_turn = create_model(best_params['activation'], best_params['loss'],X_train=X_train, y_train=y_train)\n",
        "history_turn = best_model_turn.fit(X_train, y_train, epochs=10, batch_size=32, validation_data=(X_test, y_test))\n",
        "y_score_turn = best_model_turn.predict(X_test)"
      ]
    },
    {
      "cell_type": "markdown",
      "metadata": {
        "id": "dQBEaguavB6o"
      },
      "source": [
        "## Turning Performance"
      ]
    },
    {
      "cell_type": "markdown",
      "metadata": {
        "id": "VkYJRX-WvhwL"
      },
      "source": [
        "### plotting the ROC curve with AUC score"
      ]
    },
    {
      "cell_type": "code",
      "execution_count": null,
      "metadata": {
        "id": "gN3qgc2_vBGM"
      },
      "outputs": [],
      "source": [
        "\n",
        "from sklearn.metrics import roc_curve, auc\n",
        "\n",
        "# store the fpr, tpr, and roc_auc for all averaging strategies\n",
        "fpr, tpr, roc_auc = dict(), dict(), dict()\n",
        "\n",
        "# Compute micro-average ROC curve and ROC area\n",
        "fpr[\"micro\"], tpr[\"micro\"], _ = roc_curve(y_test.ravel(), y_score_turn.ravel())\n",
        "roc_auc[\"micro\"] = auc(fpr[\"micro\"], tpr[\"micro\"])\n",
        "\n",
        "print(f\"Micro-averaged One-vs-Rest ROC AUC score:\\n{roc_auc['micro']:.2f}\")\n",
        "\n",
        "\n",
        "for i in range(4):\n",
        "    fpr[i], tpr[i], _ = roc_curve(y_test[:, i], y_score_turn[:, i])\n",
        "    roc_auc[i] = auc(fpr[i], tpr[i])\n",
        "\n",
        "fpr_grid = np.linspace(0.0, 1.0, 1000)\n",
        "\n",
        "# Interpolate all ROC curves at these points\n",
        "mean_tpr = np.zeros_like(fpr_grid)\n",
        "\n",
        "for i in range(4):\n",
        "    mean_tpr += np.interp(fpr_grid, fpr[i], tpr[i])  # linear interpolation\n",
        "\n",
        "# Average it and compute AUC\n",
        "mean_tpr /= 4\n",
        "\n",
        "fpr[\"macro\"] = fpr_grid\n",
        "tpr[\"macro\"] = mean_tpr\n",
        "roc_auc[\"macro\"] = auc(fpr[\"macro\"], tpr[\"macro\"])\n",
        "\n",
        "print(f\"Macro-averaged One-vs-Rest ROC AUC score:\\n{roc_auc['macro']:.2f}\")\n"
      ]
    },
    {
      "cell_type": "code",
      "execution_count": null,
      "metadata": {
        "id": "c4N3wDzuvcTg"
      },
      "outputs": [],
      "source": [
        "from itertools import cycle\n",
        "from sklearn.metrics import RocCurveDisplay\n",
        "\n",
        "\n",
        "fig, ax = plt.subplots(figsize=(6, 6))\n",
        "\n",
        "plt.plot(\n",
        "    fpr[\"micro\"],\n",
        "    tpr[\"micro\"],\n",
        "    label=f\"micro-average ROC curve (AUC = {roc_auc['micro']:.2f})\",\n",
        "    color=\"deeppink\",\n",
        "    linestyle=\":\",\n",
        "    linewidth=4,\n",
        ")\n",
        "\n",
        "plt.plot(\n",
        "    fpr[\"macro\"],\n",
        "    tpr[\"macro\"],\n",
        "    label=f\"macro-average ROC curve (AUC = {roc_auc['macro']:.2f})\",\n",
        "    color=\"navy\",\n",
        "    linestyle=\":\",\n",
        "    linewidth=4,\n",
        ")\n",
        "\n",
        "colors = cycle([\"aqua\", \"darkorange\", \"cornflowerblue\", \"yellow\"])\n",
        "for class_id, color in zip(range(4), colors):\n",
        "    RocCurveDisplay.from_predictions(\n",
        "        y_test[:, class_id],\n",
        "        y_score_turn[:, class_id],\n",
        "        name=f\"ROC curve for class {class_id}\",\n",
        "        color=color,\n",
        "        ax=ax,\n",
        "    )\n",
        "\n",
        "# plt.plot([0, 1], [0, 1], \"k--\", label=\"ROC curve for chance level (AUC = 0.5)\")\n",
        "plt.plot([0, 1], [0, 1], \"k--\")\n",
        "\n",
        "plt.axis(\"square\")\n",
        "plt.xlabel(\"False Positive Rate\")\n",
        "plt.ylabel(\"True Positive Rate\")\n",
        "plt.title(\"Receiver Operating Characteristic of multiclass\")\n",
        "plt.legend()\n",
        "plt.show()"
      ]
    },
    {
      "cell_type": "markdown",
      "metadata": {
        "id": "jcu8OsXPvoYe"
      },
      "source": [
        "### reporting performance measures. \n"
      ]
    },
    {
      "cell_type": "code",
      "execution_count": null,
      "metadata": {
        "id": "SPGc6csHvq_n"
      },
      "outputs": [],
      "source": [
        "import matplotlib.pyplot as plt\n",
        "from sklearn.metrics import confusion_matrix, ConfusionMatrixDisplay\n",
        "from sklearn.metrics import classification_report\n",
        "\n",
        "\n",
        "# Get the predicted classes of the test set\n",
        "y_pred = np.argmax(y_score_turn, axis=1)\n",
        "\n",
        "# Get the true classes of the test set\n",
        "y_true = np.argmax(y_test, axis=1)\n",
        "\n",
        "cm = confusion_matrix(y_true, y_pred)\n",
        "\n",
        "# Plot the confusion matrix as a heatmap using ConfusionMatrixDisplay\n",
        "display_labels = ['Class 0', 'Class 1', 'Class 2', 'Class 3'] # Replace with your own class labels\n",
        "cm_display = ConfusionMatrixDisplay(confusion_matrix=cm, display_labels=display_labels)\n",
        "\n",
        "# Display the plot\n",
        "cm_display.plot(cmap='Blues')\n",
        "plt.title(\"Confusion Matrix\")\n",
        "plt.show()\n",
        "\n",
        "print(classification_report(y_true, y_pred))"
      ]
    },
    {
      "cell_type": "code",
      "execution_count": null,
      "metadata": {
        "id": "om-GuLa-vxvQ"
      },
      "outputs": [],
      "source": [
        "\n",
        "# y_true: true labels of test set\n",
        "# y_pred: predicted labels of test set\n",
        "\n",
        "# recall -> sensitivity\n",
        "# support -> specificity\n",
        "\n",
        "# Print classification report\n",
        "\n",
        "# Calculate TN, FP, FN, and TP for each class from the confusion matrix\n",
        "tn = [cm[i,j] for i in range(cm.shape[0]) for j in range(cm.shape[1]) if i != j]\n",
        "fp = [cm[:,j].sum() - cm[j,j] for j in range(cm.shape[1])]\n",
        "fn = [cm[i,:].sum() - cm[i,i] for i in range(cm.shape[0])]\n",
        "tp = [cm[i,i] for i in range(cm.shape[0])]\n",
        "\n",
        "# Generate classification report\n",
        "report = classification_report(y_true, y_pred, output_dict=True)\n",
        "\n",
        "# Extract specificity for each class from the classification report\n",
        "specificity = {}\n",
        "for class_name, metrics in report.items():\n",
        "    if class_name not in ['micro avg', 'macro avg', 'weighted avg', 'accuracy']:\n",
        "        idx = int(class_name) - 1\n",
        "        specificity[class_name] = tn[idx] / (tn[idx] + fp[idx])\n",
        "\n",
        "print(\"specificity for each class: \",specificity)"
      ]
    },
    {
      "cell_type": "markdown",
      "metadata": {
        "id": "MA8wayibA4hs"
      },
      "source": [
        "Data Augmentation"
      ]
    },
    {
      "cell_type": "code",
      "execution_count": null,
      "metadata": {
        "id": "rLIcK-OJA0bH"
      },
      "outputs": [],
      "source": [
        "from tensorflow.keras.preprocessing.image import ImageDataGenerator\n",
        "\n",
        "def data_augmentation(X_train):\n",
        "    datagen = ImageDataGenerator(\n",
        "        rotation_range=20, # rotate the image up to 20 degrees\n",
        "        width_shift_range=0.1, # shift the image left or right by up to 10%\n",
        "        height_shift_range=0.1, # shift the image up or down by up to 10%\n",
        "        horizontal_flip=True, # flip the image horizontally\n",
        "        vertical_flip=True # flip the image vertically\n",
        "        shear_range=0.2,  # apply shearing transformations\n",
        "        zoom_range=0.2,  # zoom in or out on the image\n",
        "        fill_mode='nearest'  # fill in missing pixels with the nearest value\n",
        "    )\n",
        "    datagen.fit(X_train)\n",
        "    return datagen\n",
        "\n",
        "# use the fit generator method to train your model with augmented data\n",
        "history = model.fit_generator(datagen.flow(X_train, y_train, batch_size=32),\n",
        "                    steps_per_epoch=len(X_train) / 32, epochs=10, validation_data=(X_test, y_test))"
      ]
    },
    {
      "cell_type": "markdown",
      "metadata": {
        "id": "CBGr0x8ZcFn9"
      },
      "source": [
        "# Transfer Learning"
      ]
    },
    {
      "cell_type": "markdown",
      "metadata": {
        "id": "ru6M0WDfVI9Y"
      },
      "source": [
        "# **VGG16** "
      ]
    },
    {
      "cell_type": "code",
      "execution_count": null,
      "metadata": {
        "id": "fn_WnCfDcFyD"
      },
      "outputs": [],
      "source": [
        "# Loading the vgg16 model\n",
        "from keras.applications.vgg16 import VGG16\n",
        "from tensorflow.keras import layers\n",
        "from keras.models import Model\n",
        "\n",
        "def create_model(input_shape, n_classes, optimizer='rmsprop', fine_tune=0):\n",
        "    \"\"\"\n",
        "    Compiles a model integrated with VGG16 pretrained layers\n",
        "    \n",
        "    input_shape: tuple - the shape of input images (width, height, channels)\n",
        "    n_classes: int - number of classes for the output layer\n",
        "    optimizer: string - instantiated optimizer to use for training. Defaults to 'RMSProp'\n",
        "    fine_tune: int - The number of pre-trained layers to unfreeze.\n",
        "                If set to 0, all pretrained layers will freeze during training\n",
        "    \"\"\"\n",
        "    \n",
        "    # Pretrained convolutional layers are loaded using the Imagenet weights.\n",
        "    # Include_top is set to False, in order to exclude the model's fully-connected layers.\n",
        "    conv_base = VGG16(include_top=False,\n",
        "                     weights='imagenet', \n",
        "                     input_shape=input_shape)\n",
        "    \n",
        "\n",
        "    # Defines how many layers to freeze during training.\n",
        "    # Layers in the convolutional base are switched from trainable to non-trainable\n",
        "    # depending on the size of the fine-tuning parameter.\n",
        "    if fine_tune > 0:\n",
        "        for layer in conv_base.layers[:-fine_tune]:\n",
        "            layer.trainable = False\n",
        "    else:\n",
        "        for layer in conv_base.layers:\n",
        "            layer.trainable = False\n",
        "\n",
        "    # Create a new 'top' of the model (i.e. fully-connected layers).\n",
        "    # This is 'bootstrapping' a new top_model onto the pretrained layers.\n",
        "    top_model = conv_base.output\n",
        "    top_model = Flatten(name=\"flatten\")(top_model)\n",
        "    top_model = Dense(4096, activation='relu')(top_model)\n",
        "    top_model = Dense(1072, activation='relu')(top_model)\n",
        "    #top_model = Dropout(0.2)(top_model)\n",
        "    output_layer = Dense(n_classes, activation='softmax')(top_model)\n",
        "\n",
        "    # Group the convolutional base and new fully-connected layers into a Model object.\n",
        "    model = Model(inputs=conv_base.input, outputs=output_layer)\n",
        "\n",
        "    # Compiles the model for training.\n",
        "    model.compile(optimizer=optimizer, \n",
        "                  loss='categorical_crossentropy',\n",
        "                  metrics=['accuracy'])\n",
        "    \n",
        "    return model"
      ]
    },
    {
      "cell_type": "code",
      "execution_count": null,
      "metadata": {
        "id": "ZYhHhfoVmLFk"
      },
      "outputs": [],
      "source": [
        "input_shape = (156, 156, 3)\n",
        "optim_1 = Adam(learning_rate=0.001)\n",
        "n_classes=4\n",
        "BATCH_SIZE = 32\n",
        "\n",
        "n_steps = X_train // BATCH_SIZE\n",
        "n_val_steps = X_test // BATCH_SIZE\n",
        "n_epochs = 10\n",
        "\n",
        "# train the model without Fine-tuning(Freeze the layers)\n",
        "vgg_model = create_model(input_shape, n_classes, optim_1, fine_tune=0)"
      ]
    },
    {
      "cell_type": "code",
      "execution_count": null,
      "metadata": {
        "id": "ulB71lO_mbnZ"
      },
      "outputs": [],
      "source": [
        "# fit model\n",
        "history = vgg_model.fit(X_train, y_train, validation_data=(X_test, y_test),  epochs=10, verbose=1)\n",
        "y_score = vgg_model.predict(X_test)"
      ]
    },
    {
      "cell_type": "code",
      "execution_count": null,
      "metadata": {
        "id": "Ub6jTtGQolOt"
      },
      "outputs": [],
      "source": [
        "# Analyze the performance of the baseline by plotting: \n",
        "# Report performance measures (accuracy, sen\u0002sitivity, specificity and F1-score). \n",
        "# You can find the hint for plotting multi-class ROC curve here.\n",
        "\n",
        "# plot diagnostic learning curves\n",
        "def summarize_diagnostics(history):\n",
        "\t# plot loss\n",
        "\tplt.subplot(211)\n",
        "\tplt.title('Cross Entropy Loss')\n",
        "\tplt.plot(history.history['loss'], color='blue', label='train')\n",
        "\tplt.plot(history.history['val_loss'], color='orange', label='test')\n",
        " \n",
        "\t# plot accuracy\n",
        "\tplt.subplot(212)\n",
        "\tplt.title('Classification Accuracy')\n",
        "\tplt.plot(history.history['accuracy'], color='blue', label='train')\n",
        "\tplt.plot(history.history['val_accuracy'], color='orange', label='test')\n",
        "\tplt.legend(['training', 'validation'])\n",
        "\tplt.show()\n",
        " \n",
        "summarize_diagnostics(history)"
      ]
    },
    {
      "cell_type": "code",
      "execution_count": null,
      "metadata": {
        "id": "lXhNNNX-Vswu"
      },
      "outputs": [],
      "source": [
        "from sklearn.metrics import roc_curve, auc\n",
        "\n",
        "# store the fpr, tpr, and roc_auc for all averaging strategies\n",
        "fpr, tpr, roc_auc = dict(), dict(), dict()\n",
        "\n",
        "# Compute micro-average ROC curve and ROC area\n",
        "fpr[\"micro\"], tpr[\"micro\"], _ = roc_curve(y_test.ravel(), y_score.ravel())\n",
        "roc_auc[\"micro\"] = auc(fpr[\"micro\"], tpr[\"micro\"])\n",
        "\n",
        "print(f\"Micro-averaged One-vs-Rest ROC AUC score:\\n{roc_auc['micro']:.2f}\")\n",
        "\n",
        "\n",
        "for i in range(4):\n",
        "    fpr[i], tpr[i], _ = roc_curve(y_test[:, i], y_score[:, i])\n",
        "    roc_auc[i] = auc(fpr[i], tpr[i])\n",
        "\n",
        "fpr_grid = np.linspace(0.0, 1.0, 1000)\n",
        "\n",
        "# Interpolate all ROC curves at these points\n",
        "mean_tpr = np.zeros_like(fpr_grid)\n",
        "\n",
        "for i in range(4):\n",
        "    mean_tpr += np.interp(fpr_grid, fpr[i], tpr[i])  # linear interpolation\n",
        "\n",
        "# Average it and compute AUC\n",
        "mean_tpr /= 4\n",
        "\n",
        "fpr[\"macro\"] = fpr_grid\n",
        "tpr[\"macro\"] = mean_tpr\n",
        "roc_auc[\"macro\"] = auc(fpr[\"macro\"], tpr[\"macro\"])\n",
        "\n",
        "print(f\"Macro-averaged One-vs-Rest ROC AUC score:\\n{roc_auc['macro']:.2f}\")"
      ]
    },
    {
      "cell_type": "code",
      "execution_count": null,
      "metadata": {
        "id": "7g-q3ECRVxDJ"
      },
      "outputs": [],
      "source": [
        "from itertools import cycle\n",
        "from sklearn.metrics import RocCurveDisplay\n",
        "\n",
        "\n",
        "fig, ax = plt.subplots(figsize=(6, 6))\n",
        "\n",
        "plt.plot(\n",
        "    fpr[\"micro\"],\n",
        "    tpr[\"micro\"],\n",
        "    label=f\"micro-average ROC curve (AUC = {roc_auc['micro']:.2f})\",\n",
        "    color=\"deeppink\",\n",
        "    linestyle=\":\",\n",
        "    linewidth=4,\n",
        ")\n",
        "\n",
        "plt.plot(\n",
        "    fpr[\"macro\"],\n",
        "    tpr[\"macro\"],\n",
        "    label=f\"macro-average ROC curve (AUC = {roc_auc['macro']:.2f})\",\n",
        "    color=\"navy\",\n",
        "    linestyle=\":\",\n",
        "    linewidth=4,\n",
        ")\n",
        "\n",
        "colors = cycle([\"aqua\", \"darkorange\", \"cornflowerblue\", \"yellow\"])\n",
        "for class_id, color in zip(range(4), colors):\n",
        "    RocCurveDisplay.from_predictions(\n",
        "        y_test[:, class_id],\n",
        "        y_score[:, class_id],\n",
        "        name=f\"ROC curve for class {class_id}\",\n",
        "        color=color,\n",
        "        ax=ax,\n",
        "    )\n",
        "\n",
        "# plt.plot([0, 1], [0, 1], \"k--\", label=\"ROC curve for chance level (AUC = 0.5)\")\n",
        "plt.plot([0, 1], [0, 1], \"k--\")\n",
        "\n",
        "plt.axis(\"square\")\n",
        "plt.xlabel(\"False Positive Rate\")\n",
        "plt.ylabel(\"True Positive Rate\")\n",
        "plt.title(\"Receiver Operating Characteristic of multiclass\")\n",
        "plt.legend()\n",
        "plt.show()"
      ]
    },
    {
      "cell_type": "code",
      "execution_count": null,
      "metadata": {
        "id": "dEZGlM1gV6FU"
      },
      "outputs": [],
      "source": [
        "import matplotlib.pyplot as plt\n",
        "from sklearn.metrics import confusion_matrix, ConfusionMatrixDisplay\n",
        "from sklearn.metrics import classification_report\n",
        "\n",
        "\n",
        "# Get the predicted classes of the test set\n",
        "y_pred = np.argmax(y_score, axis=1)\n",
        "\n",
        "# Get the true classes of the test set\n",
        "y_true = np.argmax(y_test, axis=1)\n",
        "\n",
        "cm = confusion_matrix(y_true, y_pred)\n",
        "\n",
        "# Plot the confusion matrix as a heatmap using ConfusionMatrixDisplay\n",
        "display_labels = ['Class 0', 'Class 1', 'Class 2', 'Class 3'] # Replace with your own class labels\n",
        "cm_display = ConfusionMatrixDisplay(confusion_matrix=cm, display_labels=display_labels)\n",
        "\n",
        "# Display the plot\n",
        "cm_display.plot(cmap='Blues')\n",
        "plt.title(\"Confusion Matrix\")\n",
        "plt.show()\n",
        "\n",
        "print(classification_report(y_true, y_pred))"
      ]
    },
    {
      "cell_type": "code",
      "execution_count": null,
      "metadata": {
        "id": "lU0nFZBaVhvP"
      },
      "outputs": [],
      "source": []
    }
  ],
  "metadata": {
    "colab": {
      "machine_shape": "hm",
      "provenance": []
    },
    "gpuClass": "standard",
    "kernelspec": {
      "display_name": "Python 3",
      "name": "python3"
    },
    "language_info": {
      "name": "python"
    }
  },
  "nbformat": 4,
  "nbformat_minor": 0
}
